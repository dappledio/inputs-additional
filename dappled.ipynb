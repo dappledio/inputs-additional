{
 "cells": [
  {
   "cell_type": "markdown",
   "metadata": {},
   "source": [
    "# Additional input types\n",
    "\n",
    "Dappled applets support a variety of additional input types. \n",
    "\n",
    "Take a look at the notebook to see how they are defined. For basic input types, see [this applet](/dappledio/inputs-intro)."
   ]
  },
  {
   "cell_type": "code",
   "execution_count": 1,
   "metadata": {},
   "outputs": [],
   "source": [
    "filename_via_upload = ''\n",
    "filename_via_upload__format = 'upload'\n",
    "\n",
    "# a multiselect is specified by a list\n",
    "multiselect = []\n",
    "multiselect__choices = ['a', 'b', 'c', 'd']\n",
    "\n",
    "multiselect2 = []\n",
    "multiselect2__choices = list(range(100))\n",
    "\n",
    "color_picker = '#ff0000'\n",
    "color_picker__format = 'color'\n",
    "\n",
    "number = 50\n",
    "number__range = [0, 100, 5]\n",
    "\n",
    "date = ''\n",
    "date__format = 'date'\n",
    "\n",
    "time = ''\n",
    "time__format = 'time'\n",
    "\n",
    "datetime = ''\n",
    "datetime__format = 'datetime'\n",
    "\n",
    "sql = '''SELECT city, COUNT(id) AS users_count\n",
    "FROM users\n",
    "WHERE group_name = 'salesman'\n",
    "AND created > '2011-05-21'\n",
    "GROUP BY 1\n",
    "ORDER BY 2 DESC'''\n",
    "sql__format = 'sql' # other languages supported include: 'python', 'R'\n",
    "\n",
    "signature = ''\n",
    "signature__format = 'signature'"
   ]
  },
  {
   "cell_type": "code",
   "execution_count": 2,
   "metadata": {},
   "outputs": [
    {
     "name": "stdout",
     "output_type": "stream",
     "text": [
      "<class 'list'> multiselect: []\n",
      "<class 'list'> multiselect2: []\n",
      "<class 'str'> color_picker: #ff0000\n",
      "<class 'int'> number: 50\n",
      "<class 'str'> date: \n",
      "<class 'str'> time: \n",
      "<class 'str'> datetime: \n",
      "<class 'str'> sql: SELECT city, COUNT(id) AS users_count\n",
      "FROM users\n",
      "WHERE group_name = 'salesman'\n",
      "AND created > '2011-05-21'\n",
      "GROUP BY 1\n",
      "ORDER BY 2 DESC\n",
      "<class 'str'> signature: \n"
     ]
    }
   ],
   "source": [
    "def print_variable_names():\n",
    "    variable_names = list(globals().keys())\n",
    "    for varname in variable_names:\n",
    "        if varname[0] != '_' and '__' not in varname and varname != 'In':\n",
    "            val = globals()[varname]\n",
    "            if type(val) not in (str, int, float, bool, list):\n",
    "                continue\n",
    "            print(type(val), varname+':', val, )\n",
    "print_variable_names()"
   ]
  }
 ],
 "metadata": {
  "kernelspec": {
   "display_name": "Python 3",
   "language": "python",
   "name": "python3"
  },
  "language_info": {
   "codemirror_mode": {
    "name": "ipython",
    "version": 3
   },
   "file_extension": ".py",
   "mimetype": "text/x-python",
   "name": "python",
   "nbconvert_exporter": "python",
   "pygments_lexer": "ipython3",
   "version": "3.6.7"
  }
 },
 "nbformat": 4,
 "nbformat_minor": 2
}
